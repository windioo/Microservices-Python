{
 "cells": [
  {
   "cell_type": "markdown",
   "metadata": {},
   "source": [
    "Buatlah dua fungsi yang belum terisi pada materi hari ini.\n",
    "\n",
    "1. fungsi pertama untuk mencari dan melakukan return semua data\n",
    "\n",
    "2. fungsi kedua adalah untuk mencari dan melakukan return data dengan masukan idnya. Untuk fungsi ini struktur data yang menjadi input fungsi sama dengan saat akan melakukan penghapusan."
   ]
  },
  {
   "cell_type": "code",
   "execution_count": null,
   "metadata": {},
   "outputs": [],
   "source": [
    "def showUsers(self):\r\n",
    "        try :\r\n",
    "            crud_query = \"select * from customers\"\r\n",
    "\r\n",
    "            cursor = self.db.cursor()\r\n",
    "            cursor.execute(crud_query)\r\n",
    "            data = cursor.fetchall()\r\n",
    "            for d in data:\r\n",
    "                print(d) \r\n",
    "                \r\n",
    "        except Exception as e:\r\n",
    "            print(e)"
   ]
  },
  {
   "cell_type": "code",
   "execution_count": null,
   "metadata": {},
   "outputs": [],
   "source": [
    "def showUserById(self, **params):\r\n",
    "        try:\r\n",
    "            userid = params['userid']\r\n",
    "            crud_query = '''select * from customers where userid = {0};'''.format(userid)\r\n",
    "\r\n",
    "            cursor = self.db.cursor()\r\n",
    "            cursor.execute(crud_query)\r\n",
    "            data = cursor.fetchall()\r\n",
    "            print(data)\r\n",
    "\r\n",
    "        except Exception as e:\r\n",
    "            print(e)"
   ]
  }
 ],
 "metadata": {
  "kernelspec": {
   "display_name": "Python 3.9.2 64-bit ('ms_python')",
   "name": "python392jvsc74a57bd0e9f626c277b482f044d884df01d069424155dc03c756bb84e680a88fc924294e"
  },
  "language_info": {
   "name": "python",
   "version": ""
  },
  "metadata": {
   "interpreter": {
    "hash": "e9f626c277b482f044d884df01d069424155dc03c756bb84e680a88fc924294e"
   }
  },
  "orig_nbformat": 2
 },
 "nbformat": 4,
 "nbformat_minor": 2
}