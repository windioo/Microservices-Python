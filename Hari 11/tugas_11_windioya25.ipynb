{
 "cells": [
  {
   "cell_type": "code",
   "execution_count": null,
   "metadata": {},
   "outputs": [],
   "source": []
  },
  {
   "cell_type": "markdown",
   "metadata": {},
   "source": [
    "Buatlah empat fungsi yang belum terisi pada materi hari ini.\n",
    "\n",
    "1. fungsi pertama untuk mencari dan melakukan return semua data\n",
    "\n",
    "2. fungsi kedua adalah untuk mencari dan melakukan return data dengan masukan idnya.\n",
    "\n",
    "3. fungsi untuk mengubah data buku.\n",
    "\n",
    "4. fungsi untuk menghapus buku."
   ]
  },
  {
   "cell_type": "code",
   "execution_count": null,
   "metadata": {},
   "outputs": [],
   "source": [
    "def showBooks(self):\r\n",
    "    result = self.mongo_col.find()\r\n",
    "    return result"
   ]
  },
  {
   "cell_type": "code",
   "execution_count": null,
   "metadata": {},
   "outputs": [],
   "source": [
    "def showBookById(self,key):\r\n",
    "    query = {\"_id\":key} \r\n",
    "    result = self.mongo_col.find(query)\r\n",
    "    return result"
   ]
  },
  {
   "cell_type": "code",
   "execution_count": null,
   "metadata": {},
   "outputs": [],
   "source": [
    "def updateBookById(self,key,values):\r\n",
    "    query = {\"_id\":key}\r\n",
    "    new_values = {\"$set\" : {\"nama\" : values}}\r\n",
    "    result = self.mongo_col.update(query,new_values)\r\n",
    "    return result"
   ]
  },
  {
   "cell_type": "code",
   "execution_count": null,
   "metadata": {},
   "outputs": [],
   "source": [
    "def deleteBookById(self,key):\r\n",
    "    query = {\"_id\":key}\r\n",
    "    result = self.mongo_col.remove(query)\r\n",
    "    return result "
   ]
  }
 ],
 "metadata": {
  "language_info": {
   "codemirror_mode": {
    "name": "ipython",
    "version": 3
   },
   "file_extension": ".py",
   "mimetype": "text/x-python",
   "name": "python",
   "nbconvert_exporter": "python",
   "pygments_lexer": "ipython3",
   "version": 3
  },
  "orig_nbformat": 2
 },
 "nbformat": 4,
 "nbformat_minor": 2
}