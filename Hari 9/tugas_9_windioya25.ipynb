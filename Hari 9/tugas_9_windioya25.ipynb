{
 "cells": [
  {
   "cell_type": "markdown",
   "metadata": {},
   "source": [
    "Dengan menggunakan tabel bios yang kita gunakan pada materi (dengan import bios.json) kerjakan soal di bawah ini dengan menuliskan query yang digunakan."
   ]
  },
  {
   "cell_type": "markdown",
   "metadata": {},
   "source": [
    "1. Tuliskan query yang digunakan untuk mencari data programmer dengan kriteria:\n",
    "\n",
    " - id lebih kecil dari 5"
   ]
  },
  {
   "cell_type": "code",
   "execution_count": null,
   "metadata": {},
   "outputs": [],
   "source": [
    "'''\r\n",
    "tuliskan jawaban no satu di sini\r\n",
    "\r\n",
    "db.bios.find(\r\n",
    "    {\"_id\": {$lt : 5}}\r\n",
    ").pretty()\r\n",
    "\r\n",
    "\r\n",
    "\r\n",
    "\r\n",
    "'''"
   ]
  },
  {
   "cell_type": "markdown",
   "metadata": {},
   "source": [
    "2. Tuliskan query yang digunakan untuk mencari data programmer dengan kriteria:\n",
    "\n",
    "- lahir di atas tahun 1950\n",
    "- mendapatkan award diatas tahun 2000"
   ]
  },
  {
   "cell_type": "code",
   "execution_count": null,
   "metadata": {},
   "outputs": [],
   "source": [
    "'''\r\n",
    "tuliskan jawaban no dua di sini\r\n",
    "\r\n",
    "db.bios.find( \r\n",
    "    {\"birth\":{$gt:ISODate(\"1950-12-31\")},\r\n",
    "    \"awards.year\" : {$gt:2000}}\r\n",
    "    ).pretty()\r\n",
    "\r\n",
    "\r\n",
    "\r\n",
    "'''"
   ]
  },
  {
   "cell_type": "markdown",
   "metadata": {},
   "source": [
    "3. Tuliskan query yang digunakan untuk mencari data programmer dengan kriteria:\n",
    "\n",
    "- Nama depannya di awali huruf J\n",
    "- mendapatkan Turing Award"
   ]
  },
  {
   "cell_type": "code",
   "execution_count": null,
   "metadata": {},
   "outputs": [],
   "source": [
    "'''\r\n",
    "tuliskan jawaban no tiga di sini\r\n",
    "\r\n",
    "db.bios.find(\r\n",
    "    {\"name.first\" : {$regex: /^J/},\r\n",
    "    \"awards.award\" : \"Turing Award\" }\r\n",
    ").pretty()\r\n",
    "\r\n",
    "\r\n",
    "\r\n",
    "\r\n",
    "'''"
   ]
  }
 ],
 "metadata": {
  "kernelspec": {
   "display_name": "Python 3.8.3 64-bit (conda)",
   "name": "python383jvsc74a57bd08fac594bfae6525c0c41b4041d2d72effa188cc8ead05f81b1fab2bb098927fb"
  },
  "language_info": {
   "name": "python",
   "version": ""
  },
  "orig_nbformat": 2
 },
 "nbformat": 4,
 "nbformat_minor": 2
}