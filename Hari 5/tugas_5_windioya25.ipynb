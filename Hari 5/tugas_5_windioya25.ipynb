{
 "cells": [
  {
   "cell_type": "markdown",
   "metadata": {},
   "source": [
    "Buatlah sebuah class yang memiliki masukkan sebuah dua buah angka. class tersebut memiliki tiga fungsi/method. \n",
    "\n",
    "fungsi pertama digunakan untuk untuk mencari tahu apakah nilai tersebut ganjil atau genap, fungsi ini merupakan fungsi tanpa return dengan print. Fungsi ini harus diinisiasi setelah pembuatan objek.\n",
    "\n",
    "fungsi kedua untuk melakukan pangkat dua masing-masing terhadap kedua bilangan tersebut. Fungsi ini merupakan fungsi tanpa return. Fungsi ini tidak diinisiasi setelah pembuatan objek.\n",
    "\n",
    "Fungsi ketiga adalah fungsi untuk mencari fpb dari hasil pada fungsi kedua. gunakan hasil dari fungsi kedua. fungsi ini merupakan fungsi dengan return."
   ]
  },
  {
   "cell_type": "code",
   "execution_count": 2,
   "metadata": {},
   "outputs": [
    {
     "name": "stdout",
     "output_type": "stream",
     "text": [
      "9 merupakan bilangan ganjil, 24 merupakan bilangan genap\n",
      "FPB dari 81 dan 576 adalah 9\n"
     ]
    }
   ],
   "source": [
    "class materi_hitung:\r\n",
    "    def __init__(self,var_1,var_2):\r\n",
    "        self.var_1 = var_1\r\n",
    "        self.var_2 = var_2\r\n",
    "\r\n",
    "    def f_satu(self):\r\n",
    "        #fungsi untuk menampilkan bilangan ganjil atau genap\r\n",
    "        #tanpa return\r\n",
    "        if self.var_1 % 2 == 0:\r\n",
    "           hasil_1 = f\"{var_1} merupakan bilangan genap\"\r\n",
    "        else:\r\n",
    "            hasil_1 = f\"{var_1} merupakan bilangan ganjil\"\r\n",
    "        if self.var_2 % 2 == 0:\r\n",
    "           hasil_2 = f\"{var_2} merupakan bilangan genap\"\r\n",
    "        else:\r\n",
    "            hasil_2 = f\"{var_2} merupakan bilangan ganjil\"\r\n",
    "        print(hasil_1+\", \"+hasil_2)\r\n",
    "        \r\n",
    "    def f_dua(self):\r\n",
    "        #fungsi tanpa returnui\r\n",
    "        #untuk melakukan pangkat dua\r\n",
    "        self.pangkat_var_1=self.var_1**2\r\n",
    "        self.pangkat_var_2=self.var_2**2\r\n",
    "        \r\n",
    "        pass\r\n",
    "    def f_tiga(self):\r\n",
    "        #fungsi dengan return\r\n",
    "        #untuk mencari fpb dan mengembalikan nilai fpbnya\r\n",
    "        self.f_dua()\r\n",
    "        pangkat1=self.pangkat_var_1\r\n",
    "        pangkat2=self.pangkat_var_2\r\n",
    "        \r\n",
    "        if pangkat1 > pangkat2:\r\n",
    "            smaller = pangkat2\r\n",
    "        else:\r\n",
    "            smaller = pangkat1\r\n",
    "        for i in range(1, smaller+1):\r\n",
    "            if((pangkat1 % i == 0) and (pangkat2 % i == 0)):\r\n",
    "                fpb = i   \r\n",
    "        return print(f\"FPB dari {pangkat1} dan {pangkat2} adalah {fpb}\")\r\n",
    "        \r\n",
    "         \r\n",
    "\r\n",
    "var_1 = 9\r\n",
    "var_2 = 24\r\n",
    "tugas = materi_hitung(var_1,var_2)\r\n",
    "tugas.f_satu()\r\n",
    "tugas.f_tiga()\r\n",
    "\r\n",
    "#output\r\n",
    "#9 merupakan bilangan ganjil, 24 merupakan bilangan genap\r\n",
    "#FPB dari 81 dan 576 adalah 9"
   ]
  }
 ],
 "metadata": {
  "kernelspec": {
   "display_name": "Python 3.9.2 64-bit",
   "metadata": {
    "interpreter": {
     "hash": "2647ea34e536f865ab67ff9ddee7fd78773d956cec0cab53c79b32cd10da5d83"
    }
   },
   "name": "python3"
  },
  "language_info": {
   "codemirror_mode": {
    "name": "ipython",
    "version": 3
   },
   "file_extension": ".py",
   "mimetype": "text/x-python",
   "name": "python",
   "nbconvert_exporter": "python",
   "pygments_lexer": "ipython3",
   "version": "3.9.2"
  },
  "orig_nbformat": 2
 },
 "nbformat": 4,
 "nbformat_minor": 2
}