{
 "cells": [
  {
   "cell_type": "markdown",
   "metadata": {},
   "source": [
    "1. Keluarkan dan tampilkan menggunakan print semua anggota list pada sel dibawah"
   ]
  },
  {
   "cell_type": "code",
   "execution_count": 261,
   "metadata": {},
   "outputs": [
    {
     "name": "stdout",
     "output_type": "stream",
     "text": [
      "bandung\n",
      "jakarta\n",
      "semarang\n",
      "palembang\n"
     ]
    }
   ],
   "source": [
    "#kerjakan soal no.1 pada sel berikut ini\r\n",
    "#contoh list = [1,2,3]\r\n",
    "#contoh hasil\r\n",
    "#1\r\n",
    "#2\r\n",
    "#3\r\n",
    "\r\n",
    "data_list = ['bandung', 'jakarta', 'semarang', 'palembang']\r\n",
    "\r\n",
    "for data in data_list:\r\n",
    "    print(data)\r\n",
    "\r\n"
   ]
  },
  {
   "cell_type": "markdown",
   "metadata": {},
   "source": [
    "2. Keluarkan dan tampilkan menggunakan metode print anggota list dengan tipe numerik dari list pada sel di bawah"
   ]
  },
  {
   "cell_type": "code",
   "execution_count": 156,
   "metadata": {},
   "outputs": [
    {
     "name": "stdout",
     "output_type": "stream",
     "text": [
      "100\n",
      "15.5\n"
     ]
    }
   ],
   "source": [
    "#kerjakan soal no.2 pada sel berikut ini\r\n",
    "#contoh list = ['a', 1]\r\n",
    "#contoh hasil :\r\n",
    "#1\r\n",
    "\r\n",
    "data_list_2 = [100, 'makassar', 15.5, True]\r\n",
    "\r\n",
    "for data in data_list_2:\r\n",
    "     if type(data) == int or type(data) == float : \r\n",
    "         print(data)"
   ]
  },
  {
   "cell_type": "markdown",
   "metadata": {},
   "source": [
    "3. lakukan pengecekan apakah terdapat angka pada tiap2 anggota list. lalu tampilkan sesuai format yang diminta"
   ]
  },
  {
   "cell_type": "code",
   "execution_count": 7,
   "metadata": {},
   "outputs": [
    {
     "name": "stdout",
     "output_type": "stream",
     "text": [
      "asda8asd memiliki angka\n",
      "bandunglautanapi tidak memiliki angka\n",
      "washingt0nDC memiliki angka\n"
     ]
    }
   ],
   "source": [
    "#kerjakan soal no.3 pada sel berikut ini\r\n",
    "#contoh list = ['ada', 'ganesa10']\r\n",
    "#contoh hasil:\r\n",
    "#ada tidak memiliki angka\r\n",
    "#ganesa10 memiliki angka\r\n",
    "\r\n",
    "data_list_3 = ['asda8asd', 'bandunglautanapi', 'washingt0nDC']\r\n",
    "\r\n",
    "for data in data_list_3:\r\n",
    "    if(data.isalpha()):\r\n",
    "        print(f\"{data} tidak memiliki angka\")\r\n",
    "    else:\r\n",
    "        print(f\"{data} memiliki angka\")\r\n",
    "\r\n"
   ]
  },
  {
   "cell_type": "markdown",
   "metadata": {},
   "source": [
    "4. keluarkan masing-masing value pada key \"nama\" dan \"nilai\" dari dictionary di dalam list pada sel di bawah. lalu masukkan pada list sehingga satu nama & nilai berada dalam satu list. lalu kumpulkan semua list dalam satu list lainnya."
   ]
  },
  {
   "cell_type": "code",
   "execution_count": 3,
   "metadata": {},
   "outputs": [
    {
     "name": "stdout",
     "output_type": "stream",
     "text": [
      "[['budi', 90, 86, 90], ['Nina', 87, 69, 78], ['Rudi', 88, 67, 91]]\n"
     ]
    }
   ],
   "source": [
    "#kerjakan soal no.4 pada sel berikut ini\r\n",
    "data_dict = [\r\n",
    "    {\r\n",
    "        \"nama\":\"budi\",\r\n",
    "        \"nilai\": {\r\n",
    "            \"matematika\" : 90,\r\n",
    "            \"fisika\" : 86,\r\n",
    "            \"biologi\" : 90\r\n",
    "        }\r\n",
    "    },\r\n",
    "    {\r\n",
    "        \"nama\":\"Nina\",\r\n",
    "        \"nilai\": {\r\n",
    "            \"matematika\" : 87,\r\n",
    "            \"fisika\" : 69,\r\n",
    "            \"biologi\" : 78\r\n",
    "        }\r\n",
    "    },\r\n",
    "    {\r\n",
    "        \"nama\":\"Rudi\",\r\n",
    "        \"nilai\": {\r\n",
    "            \"matematika\" : 88,\r\n",
    "            \"fisika\" : 67,\r\n",
    "            \"biologi\" : 91\r\n",
    "        }\r\n",
    "    }\r\n",
    "]\r\n",
    "\r\n",
    "#hasil yang diharapkan\r\n",
    "#hasil = [[\"budi\",90,86,90],[\"Nina\",87,69,78],[\"Rudi\",88,67,91]]\r\n",
    "hasil=[]\r\n",
    "for data in range(len(data_dict)):\r\n",
    "    hasil.append(list(data_dict[data]['nilai'].values()))\r\n",
    "    hasil[data].insert(0,data_dict[data]['nama'])\r\n",
    "print(hasil)"
   ]
  }
 ],
 "metadata": {
  "kernelspec": {
   "display_name": "Python 3",
   "language": "python",
   "name": "python3"
  },
  "language_info": {
   "codemirror_mode": {
    "name": "ipython",
    "version": 3
   },
   "file_extension": ".py",
   "mimetype": "text/x-python",
   "name": "python",
   "nbconvert_exporter": "python",
   "pygments_lexer": "ipython3",
   "version": "3.8.3"
  },
  "orig_nbformat": 2
 },
 "nbformat": 4,
 "nbformat_minor": 2
}