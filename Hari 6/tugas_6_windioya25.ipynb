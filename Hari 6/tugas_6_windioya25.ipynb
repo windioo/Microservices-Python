{
 "cells": [
  {
   "cell_type": "markdown",
   "metadata": {},
   "source": [
    "1. Buatlah sebuah fungsi untuk membaca dan menampilkan keseluruhan file txt dengan input fungsi berupa nama file."
   ]
  },
  {
   "cell_type": "code",
   "execution_count": 12,
   "metadata": {},
   "outputs": [
    {
     "name": "stdout",
     "output_type": "stream",
     "text": [
      "Kata programming mungkin sudah tidak asing lagi di telinga kita. \n",
      "Programming sangat erat kaitannya dengan industri IT. \n",
      "Banyak hal yang telah dihasilkan dari programming yang saat ini sudah jadi konsumsi kita sehari-hari, seperti produk-produk microsoft, facebook, apple dan lain sebagainya.\n"
     ]
    }
   ],
   "source": [
    "#kerjakan soal no.1 pada sel ini\r\n",
    "\r\n",
    "#read_txt(fname)\r\n",
    "#output diharapkan\r\n",
    "# Kata programming mungkin sudah tidak asing lagi di telinga kita. \r\n",
    "# Programming sangat erat kaitannya dengan industri IT. \r\n",
    "# Banyak hal yang telah dihasilkan dari programming yang saat ini sudah jadi konsumsi kita sehari-hari, seperti produk-produk microsoft, facebook, apple dan lain sebagainya.\r\n",
    "\r\n",
    "def read_txt(fname):\r\n",
    "    buka_file = open(fname,\"r\")\r\n",
    "    print(buka_file.read())\r\n",
    "\r\n",
    "read_txt(\"file_tugas_6/1.txt\") \r\n",
    "\r\n"
   ]
  },
  {
   "cell_type": "markdown",
   "metadata": {},
   "source": [
    "2. Buatlah sebuah fungsi yang ketika dijalankan akan meminta inputan langsung dari user dan dipakai untuk menampilkan sebuah string"
   ]
  },
  {
   "cell_type": "code",
   "execution_count": 15,
   "metadata": {},
   "outputs": [
    {
     "name": "stdout",
     "output_type": "stream",
     "text": [
      "Nama anda adalah Umar\n"
     ]
    }
   ],
   "source": [
    "# kerjakan soal no.2 pada sel ini \r\n",
    "# input_user()\r\n",
    "#output diharapkan\r\n",
    "#\"Masukkan nama anda : \"\r\n",
    "#\"Nama anda adalah Mahdi\"\r\n",
    "\r\n",
    "\r\n",
    "\r\n",
    "def input_user(nama):\r\n",
    "    print(f\"Nama anda adalah {nama}\")\r\n",
    "\r\n",
    "input_user(input(\"Masukkan nama anda : \"))"
   ]
  },
  {
   "cell_type": "markdown",
   "metadata": {},
   "source": [
    "3.  Buatlah sebuah fungsi untuk membaca file json yang disediakan dan mengambil data \"cases\" covid di indonesia. return menjadi satu buah list.  "
   ]
  },
  {
   "cell_type": "code",
   "execution_count": 5,
   "metadata": {},
   "outputs": [
    {
     "name": "stdout",
     "output_type": "stream",
     "text": [
      "[57770, 59394, 60695, 62142, 63749, 64958, 66226, 68079, 70736, 72347, 74018, 75699, 76981, 78572, 80094, 81668, 83130, 84882, 86521, 88214, 89869, 91751, 93657, 95418, 97286, 98778, 100303, 102051, 104432, 106336, 108376, 109936, 111455, 113134, 115056, 116871, 118753, 121226, 123503, 125396, 127083, 128776, 130718, 132816, 135123, 137468, 139549, 141370, 143043, 144945, 147211, 149408, 151498, 153535, 155412, 157859, 160165, 162884, 165887, 169195, 172053, 174796, 177571, 180646, 184268, 187537, 190665, 194109, 196989, 200035, 203342, 207203, 210940, 214746, 218382, 221523, 225030, 228993, 232628, 236519, 240687, 244676, 248852, 252923, 257388, 262022, 266845, 271339, 275213, 278722, 282724, 287008, 291182]\n"
     ]
    }
   ],
   "source": [
    "#cases = read_covid()\r\n",
    "#print(cases)\r\n",
    "#output diharapkan\r\n",
    "# [57770,60695, ..., 291182]\r\n",
    "import json\r\n",
    "\r\n",
    "file=open(\"file_tugas_6/3.json\")\r\n",
    "buka = json.load(file)\r\n",
    "data = []\r\n",
    "\r\n",
    "def read_covid(key):\r\n",
    "    for b in range(len(buka)):\r\n",
    "        data.append(buka[b][key])\r\n",
    "    return data\r\n",
    "\r\n",
    "cases = read_covid(\"Cases\")\r\n",
    "print(cases)"
   ]
  }
 ],
 "metadata": {
  "kernelspec": {
   "display_name": "Python 3.9.2 64-bit",
   "name": "python392jvsc74a57bd02647ea34e536f865ab67ff9ddee7fd78773d956cec0cab53c79b32cd10da5d83"
  },
  "language_info": {
   "codemirror_mode": {
    "name": "ipython",
    "version": 3
   },
   "file_extension": ".py",
   "mimetype": "text/x-python",
   "name": "python",
   "nbconvert_exporter": "python",
   "pygments_lexer": "ipython3",
   "version": "3.9.2"
  },
  "metadata": {
   "interpreter": {
    "hash": "2647ea34e536f865ab67ff9ddee7fd78773d956cec0cab53c79b32cd10da5d83"
   }
  },
  "orig_nbformat": 2
 },
 "nbformat": 4,
 "nbformat_minor": 2
}