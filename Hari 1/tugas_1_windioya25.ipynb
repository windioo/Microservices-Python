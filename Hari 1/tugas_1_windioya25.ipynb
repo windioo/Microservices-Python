{
 "cells": [
  {
   "cell_type": "markdown",
   "metadata": {},
   "source": [
    "1. Buatlah 3 variabel yang masing-masing berisi\n",
    "    \n",
    "    a. Nama depan (string)\n",
    "    \n",
    "    b. Umur (integer)\n",
    "    \n",
    "    c. kota tinggal (string)"
   ]
  },
  {
   "cell_type": "code",
   "execution_count": 1,
   "metadata": {},
   "outputs": [],
   "source": [
    "#kerjakan soal no 1 pada sel ini\r\n",
    "namaDepan = \"Windio Yuliar Armanto\"\r\n",
    "umur = 23\r\n",
    "kotaTinggal = \"Depok\""
   ]
  },
  {
   "cell_type": "markdown",
   "metadata": {},
   "source": [
    "2. Tampilkan semua variabel pada soal no 1 menjadi sebuah kalimat dengan menggunakan metode print()"
   ]
  },
  {
   "cell_type": "code",
   "execution_count": 7,
   "metadata": {},
   "outputs": [
    {
     "name": "stdout",
     "output_type": "stream",
     "text": [
      "Nama saya adalah Windio Yuliar Armanto, berusia 23 tahun dan tinggal di Depok\n"
     ]
    }
   ],
   "source": [
    "#kerjakan soal no 2 pada bagian sel ini\r\n",
    "#contoh keluaran yang diharapkan : \"Nama saya adalah Thio, berusia 28 tahun dan tinggal di Bandung.\"\r\n",
    "print(f\"Nama saya adalah {namaDepan}, berusia {umur} tahun dan tinggal di {kotaTinggal}\")"
   ]
  },
  {
   "cell_type": "markdown",
   "metadata": {},
   "source": [
    "3. Dengan menggunakan salah satu string method, ubah kata mangga pada variabel kalimat menjadi apel dan masukkan pada variabel kalimat_2 lalu print variabel kalimat_2"
   ]
  },
  {
   "cell_type": "code",
   "execution_count": 8,
   "metadata": {},
   "outputs": [
    {
     "name": "stdout",
     "output_type": "stream",
     "text": [
      "Budi menyukai buah apel\n"
     ]
    }
   ],
   "source": [
    "#kerjakan soal no 3 pada bagian sel ini\r\n",
    "kalimat = 'Budi menyukai buah mangga'\r\n",
    "kalimat_2 = kalimat.replace('mangga','apel')\r\n",
    "print(kalimat_2)"
   ]
  }
 ],
 "metadata": {
  "language_info": {
   "codemirror_mode": {
    "name": "ipython",
    "version": 3
   },
   "file_extension": ".py",
   "mimetype": "text/x-python",
   "name": "python",
   "nbconvert_exporter": "python",
   "pygments_lexer": "ipython3",
   "version": 3
  },
  "orig_nbformat": 2
 },
 "nbformat": 4,
 "nbformat_minor": 2
}