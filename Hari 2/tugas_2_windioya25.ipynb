{
 "cells": [
  {
   "cell_type": "markdown",
   "metadata": {},
   "source": [
    "1. Lakukan 4 operasi aritmatika pada 2 variabel di bawah (tambah, kurang, kali, bagi), lalu simpan semua hasilnya didalam list dan tampilkan.\n",
    "\n",
    "var_1 = 10\n",
    "\n",
    "var_2 = 2"
   ]
  },
  {
   "cell_type": "code",
   "execution_count": 3,
   "metadata": {},
   "outputs": [
    {
     "name": "stdout",
     "output_type": "stream",
     "text": [
      "[12, 8, 20, 5.0]\n"
     ]
    }
   ],
   "source": [
    "#kerjakan soal no 1 pada sel ini\r\n",
    "#keluaran yang diharapkan : [12,8,20,5]\r\n",
    "var_1 = 10\r\n",
    "var_2 = 2\r\n",
    "tambah = var_1 + var_2\r\n",
    "kurang = var_1 - var_2\r\n",
    "kali = var_1 * var_2\r\n",
    "bagi = var_1 / var_2\r\n",
    "dataList = []\r\n",
    "dataList.append(tambah) \r\n",
    "dataList.append(kurang)\r\n",
    "dataList.append(kali) \r\n",
    "dataList.append(bagi)  \r\n",
    "\r\n",
    "print(dataList)"
   ]
  },
  {
   "cell_type": "markdown",
   "metadata": {},
   "source": [
    "2. Dengan menggunakan index keluarkan nilai dari dua tuple di bawah\n",
    "\n",
    "a. ('Budi', 'Rani', 'Indah', 'Ilham')\n",
    "\n",
    "b. (20, 18, 22, 27)\n",
    "\n",
    "dari tuple a keluarkan Rani, dan dari tuple B keluarkan 22. lalu tampilkan dengan print()"
   ]
  },
  {
   "cell_type": "code",
   "execution_count": 2,
   "metadata": {},
   "outputs": [
    {
     "name": "stdout",
     "output_type": "stream",
     "text": [
      "['Budi', 'Indah', 'Ilham']\n",
      "[20, 18, 27]\n"
     ]
    }
   ],
   "source": [
    "#kerjakan soal no 2 pada sel ini\r\n",
    "#keluaran yang diharapkan: \"Rani adalah mahasiswi yang berusia 22 tahun\"\r\n",
    "a = ('Budi','Rani','Indah','Ilham')\r\n",
    "b = (20,18,22,27)\r\n",
    "a= list(a)\r\n",
    "b= list(b)\r\n",
    "a.pop(1)\r\n",
    "b.pop(2)\r\n",
    "print (a)\r\n",
    "print (b)"
   ]
  },
  {
   "cell_type": "markdown",
   "metadata": {},
   "source": [
    "3. Ambil semua value dalam dictionary berikut dan masukkan ke dalam set untuk mengetahui kota mana saja mereka berasal\n",
    "\n",
    "data_dict = {'Rudi':'bandung', 'Nina':'jakarta', 'Mia':'semarang', 'Indah':'bandung', 'Salman':'surabaya', 'Mikail':'jakarta'}"
   ]
  },
  {
   "cell_type": "code",
   "execution_count": null,
   "metadata": {},
   "outputs": [],
   "source": []
  },
  {
   "cell_type": "code",
   "execution_count": 1,
   "metadata": {},
   "outputs": [
    {
     "name": "stdout",
     "output_type": "stream",
     "text": [
      "{'jakarta', 'semarang', 'surabaya', 'bandung'}\n"
     ]
    }
   ],
   "source": [
    "#kerjakan soal no 3 pada sel ini\r\n",
    "#keluaran yang diharapkan: {'bandung','jakarta','semarang','surabaya'}\r\n",
    "data_dict = {'Rudi':'bandung', 'Nina':'jakarta', 'Mia':'semarang', 'Indah':'bandung', 'Salman':'surabaya', 'Mikail':'jakarta'}\r\n",
    "rudi = data_dict.get('Rudi')\r\n",
    "nina = data_dict.get('Nina')\r\n",
    "mia = data_dict.get('Mia')\r\n",
    "indah = data_dict.get('Indah')\r\n",
    "salman = data_dict.get('Salman')\r\n",
    "mikail = data_dict.get('Mikail')\r\n",
    "\r\n",
    "set_a = set()\r\n",
    "set_a.update([rudi,nina,mia,indah,salman,mikail])\r\n",
    "print(set_a)"
   ]
  }
 ],
 "metadata": {
  "kernelspec": {
   "display_name": "Python 3.8.6 64-bit ('public_op')",
   "metadata": {
    "interpreter": {
     "hash": "66914c7a76df292d6a0bba50fafa355dedd93b53ceb1028df6ae26adc2894cfa"
    }
   },
   "name": "python3"
  },
  "language_info": {
   "codemirror_mode": {
    "name": "ipython",
    "version": 3
   },
   "file_extension": ".py",
   "mimetype": "text/x-python",
   "name": "python",
   "nbconvert_exporter": "python",
   "pygments_lexer": "ipython3",
   "version": "3.8.6-final"
  },
  "orig_nbformat": 2
 },
 "nbformat": 4,
 "nbformat_minor": 2
}