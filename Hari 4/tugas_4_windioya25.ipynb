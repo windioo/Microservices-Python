{
 "cells": [
  {
   "cell_type": "markdown",
   "metadata": {},
   "source": [
    "1. Buatlah sebuah fungsi untuk mengecek apakah suatu string palindrom atau bukan"
   ]
  },
  {
   "cell_type": "code",
   "execution_count": 48,
   "metadata": {},
   "outputs": [
    {
     "name": "stdout",
     "output_type": "stream",
     "text": [
      "makam merupakan palindrom\n"
     ]
    }
   ],
   "source": [
    "#kerjakan soal no.1 pada sel ini\r\n",
    "#contoh: data = 'makam'\r\n",
    "#test_palindrom(data)\r\n",
    "#makam merupakan palindrom\r\n",
    "\r\n",
    "def test_palindrom(data):\r\n",
    "    return data[::-1]\r\n",
    "\r\n",
    "\r\n",
    "data = \"makam\"\r\n",
    "hasil = test_palindrom(data)\r\n",
    "if hasil == data:\r\n",
    "    print(f\"{data} merupakan palindrom\")\r\n",
    "else:\r\n",
    "    print(f\"{data} bukan palindrom\")\r\n",
    "\r\n"
   ]
  },
  {
   "cell_type": "markdown",
   "metadata": {},
   "source": [
    "2. Buatlah sebuah fungsi lambda untuk mencari nilai rata-rata dari sebuah list. Lalu aplikasikan fungsi tersebut pada key \"nilai\" pada dictionary di bawah. Hasilnya masukkan menjadi key baru (Nilai rata-rata) pada nama masing-masing (data/variabel sama)."
   ]
  },
  {
   "cell_type": "code",
   "execution_count": 2,
   "metadata": {},
   "outputs": [
    {
     "data": {
      "text/plain": "230"
     },
     "execution_count": 2,
     "metadata": {},
     "output_type": "execute_result"
    }
   ],
   "source": [
    "#kerjakan soal no.2 pada sel berikut ini\r\n",
    "#output: print(data_siswa)\r\n",
    "# [{'Nama': 'Tono', 'Nilai': [47, 50, 81, 30, 22], 'Rata-rata nilai': 46.0},\r\n",
    "# {'Nama': 'Lisa', 'Nilai': [58, 82, 26, 26, 71], 'Rata-rata nilai': 52.6},\r\n",
    "# {'Nama': 'Ali', 'Nilai': [40, 47, 16, 77, 71], 'Rata-rata nilai': 50.2},\r\n",
    "# {'Nama': 'Isna', 'Nilai': [53, 29, 21, 39, 6], 'Rata-rata nilai': 29.6}]\r\n",
    "\r\n",
    "data_siswa = [\r\n",
    "    {\r\n",
    "        \"Nama\":\"Tono\",\r\n",
    "        \"Nilai\":[47, 50, 81, 30, 22]\r\n",
    "    },\r\n",
    "    {\r\n",
    "        \"Nama\":\"Lisa\",\r\n",
    "        \"Nilai\":[58, 82, 26, 26, 71]\r\n",
    "    },\r\n",
    "    {\r\n",
    "        \"Nama\":\"Ali\",\r\n",
    "        \"Nilai\":[40, 47, 16, 77, 71]\r\n",
    "    },\r\n",
    "    {\r\n",
    "        \"Nama\":\"Isna\",\r\n",
    "        \"Nilai\":[53, 29, 21, 39, 6]\r\n",
    "    }\r\n",
    "]\r\n",
    "\r\n",
    "for d in range(len(data_siswa)):\r\n",
    "    hasil = 0\r\n",
    "    for a in range(len(data_siswa[d][\"Nilai\"])):\r\n",
    "        hasil+=(lambda x:x[a])(data_siswa[d][\"Nilai\"])\r\n",
    "    hasil = hasil/len(data_siswa[d]['Nilai'])\r\n",
    "    data_siswa[d][\"Rata-rata nilai\"] = hasil\r\n",
    "print(data_siswa)\r\n",
    "\r\n",
    "# sum(data_siswa[0][\"Nilai\"])\r\n"
   ]
  }
 ],
 "metadata": {
  "kernelspec": {
   "display_name": "Python 3",
   "language": "python",
   "name": "python3"
  },
  "language_info": {
   "codemirror_mode": {
    "name": "ipython",
    "version": 3
   },
   "file_extension": ".py",
   "mimetype": "text/x-python",
   "name": "python",
   "nbconvert_exporter": "python",
   "pygments_lexer": "ipython3",
   "version": "3.8.3"
  },
  "orig_nbformat": 2
 },
 "nbformat": 4,
 "nbformat_minor": 2
}